{
 "cells": [
  {
   "cell_type": "markdown",
   "metadata": {},
   "source": [
    "### Imports"
   ]
  },
  {
   "cell_type": "code",
   "execution_count": 1,
   "metadata": {},
   "outputs": [
    {
     "name": "stdout",
     "output_type": "stream",
     "text": [
      "pygame 1.9.6\n",
      "Hello from the pygame community. https://www.pygame.org/contribute.html\n"
     ]
    }
   ],
   "source": [
    "import numpy as np\n",
    "import pygame as pg\n",
    "import numpy as np\n",
    "\n",
    "from qiskit import QuantumCircuit, QuantumRegister, ClassicalRegister\n",
    "from qiskit import execute, BasicAer\n",
    "from qiskit.compiler import transpile\n",
    "from qiskit.extensions import RXGate, CnotGate, XGate\n",
    "from qiskit import QuantumCircuit, QuantumRegister, ClassicalRegister\n",
    "from qiskit import Aer, execute\n",
    "from qiskit.tools.visualization import plot_state_city\n",
    "from qiskit.providers.aer import StatevectorSimulator\n",
    "\n",
    "import matplotlib.pyplot as plt\n",
    "import matplotlib.pyplot as plt\n",
    "%matplotlib inline"
   ]
  },
  {
   "cell_type": "markdown",
   "metadata": {},
   "source": [
    "### Game Vars "
   ]
  },
  {
   "cell_type": "code",
   "execution_count": 2,
   "metadata": {},
   "outputs": [
    {
     "data": {
      "image/png": "[encoded data removed]",
      "text/plain": [
       "<Figure size 167.356x204.68 with 1 Axes>"
      ]
     },
     "execution_count": 2,
     "metadata": {},
     "output_type": "execute_result"
    }
   ],
   "source": [
    "#define colours\n",
    "BLACK = (0,0,0)\n",
    "WHITE = (255,255,255)\n",
    "GREEN = (0,255,0)\n",
    "RED = (255,0,0)\n",
    "\n",
    "#Set width and height of the grid location\n",
    "WIDTH = 20\n",
    "HEIGHT = 20\n",
    "\n",
    "#set margins between each cell\n",
    "MARGIN = 5\n",
    "\n",
    "#Create 2-D array as a list of lists\n",
    "grid_size = 3\n",
    "\n",
    "# Here we initialise our quantum and classical register\n",
    "qr = QuantumRegister(2)\n",
    "cr = ClassicalRegister(2)\n",
    "\n",
    "# Construct the circuit\n",
    "circ = QuantumCircuit(qr, cr)\n",
    "circ.draw(output='mpl')\n",
    "backend = Aer.get_backend('statevector_simulator')\n",
    "# Add some gates\n",
    "#circ_1.h([0,1,2])\n",
    "#circ.h(qr)\n",
    "\n",
    "#circ_1.x([0,1])\n",
    "#circ.x(qr)\n",
    "\n",
    "#circ.measure(qr,cr)\n",
    "\n",
    "# Draw!\n",
    "circ.draw(output='mpl')"
   ]
  },
  {
   "cell_type": "markdown",
   "metadata": {},
   "source": [
    "### Make grid "
   ]
  },
  {
   "cell_type": "code",
   "execution_count": 3,
   "metadata": {},
   "outputs": [],
   "source": [
    "grid = []\n",
    "\n",
    "for row in range(grid_size):\n",
    "    #add empty array  that will hold each cell in row\n",
    "    grid.append([])\n",
    "    for column in range(grid_size):\n",
    "        grid[row].append(0) # append a cell\n",
    "    "
   ]
  },
  {
   "cell_type": "markdown",
   "metadata": {},
   "source": [
    "### Inialise pygame "
   ]
  },
  {
   "cell_type": "code",
   "execution_count": null,
   "metadata": {},
   "outputs": [
    {
     "name": "stdout",
     "output_type": "stream",
     "text": [
      "which bit?\n"
     ]
    }
   ],
   "source": [
    "pg.init()\n",
    "\n",
    "WINDOW_SIZE = [255,255]\n",
    "screen = pg.display.set_mode(WINDOW_SIZE)\n",
    "\n",
    "\n",
    "#set title of screen\n",
    "pg.display.set_caption(\"Qiskit Game\")\n",
    "\n",
    "#loop until user clicks close button\n",
    "done = False\n",
    "\n",
    "#manage speed of screen updates\n",
    "clock = pg.time.Clock()\n",
    "\n",
    "def move_player(pos,d):\n",
    "    x = pos[0]\n",
    "    y = pos[1]\n",
    "    pos = None\n",
    "    \n",
    "    #for i in range(len(pos//2)):\n",
    "    if len(pos) == 2:\n",
    "        if d[0] == 'r':\n",
    "            pos = (x + 1, y)\n",
    "        if d[0] == 'l':\n",
    "            pos = (x - 1, y)\n",
    "        if d[0] == 'u':\n",
    "            pos = (x, y - 1)\n",
    "        if d[0] == 'd':\n",
    "            pos = (x, y + 1)\n",
    "        \n",
    "    \n",
    "    if len(pos) == 4:\n",
    "        if d[0] == 'r':\n",
    "            pos = (x + 1, y,x - 1, y)\n",
    "        if d[0] == 'l':\n",
    "            pos = (x - 1, y,x + 1, y)\n",
    "        if d[0] == 'u':\n",
    "            pos = (x, y - 1,x, y+1)\n",
    "        if d[0] == 'd':\n",
    "            pos = (x, y + 1,x, y-1)\n",
    "        \n",
    "    return pos\n",
    "\n",
    "def get_dir(state_vector):\n",
    "    #x = pos[0]\n",
    "    #y = pos[1]\n",
    "    #pos = None\n",
    "    print(state_vector)\n",
    "    if (state_vector == np.array([0,1,0,0])).all():\n",
    "        direction = 'r'\n",
    "    if (state_vector == np.array([0,0,1,0])).all():\n",
    "        direction = 'l'\n",
    "    if (state_vector == np.array([1,0,0,0])).all():\n",
    "        direction = 'u'\n",
    "    if (state_vector == np.array([0,0,0,1])).all():\n",
    "        direction = 'd'\n",
    "        \n",
    "    #Account for Hadamar\n",
    "    if (state_vector == np.array([0.5,0.5,0,0])).all():\n",
    "        direction = 'ur'\n",
    "    if (state_vector == np.array([0,0.5,0.5,0])).all():\n",
    "        direction = 'ul'\n",
    "    if (state_vector == np.array([0,0,0.5,0.5])).all():\n",
    "        direction = 'dl'  \n",
    "    if (state_vector == np.array([0.5,0,0,0.5])).all():\n",
    "        direction = 'du'\n",
    "        \n",
    "    return direction\n",
    "\n",
    "def mod_circ(circ,gate,qubit):\n",
    "    \n",
    "    if gate  == \"H\":\n",
    "        circ.h(qubit)\n",
    "        \n",
    "    if gate  == \"X\":\n",
    "        circ.x(qubit)\n",
    "        \n",
    "    if gate  == \"cNOT\":     \n",
    "        if qubit == 0:\n",
    "            circ.cx(0,1)\n",
    "        else:\n",
    "            circ.cx(1,0)\n",
    "            \n",
    "    if gate  == \"ID\":\n",
    "        circ.IdGate(qubit)\n",
    "        \n",
    "    return circ\n",
    "        \n",
    "        \n",
    "\n",
    "\n",
    "#---------------------MAIN LOOP-----------------------------------#\n",
    "pos = [0,0]\n",
    "players = 1\n",
    "\n",
    "while not done:\n",
    "    \n",
    "    for event in pg.event.get(): # user did a thing\n",
    "        if event.type == pg.QUIT: # if the user clicked close\n",
    "            done = True\n",
    "        elif event.type == pg.MOUSEBUTTONDOWN:\n",
    "            #user clicks mouse get the position\n",
    "            pos = pg.mouse.get_pos()\n",
    "            #change x/y screen coordinates to  grid coordinates\n",
    "            column = pos[0]//(WIDTH + MARGIN)\n",
    "            row = pos[1]//(HEIGHT+MARGIN)\n",
    "            #set that location to one\n",
    "            grid[row][column] = 1\n",
    "            print(\"Click\",pos,\"Grid_Coords\",row,column)\n",
    "            \n",
    "        #set screen background\n",
    "        screen.fill(BLACK)\n",
    "        \n",
    "        #Draw the grid\n",
    "        for row in range(grid_size):\n",
    "            for column in range(grid_size):\n",
    "                color = WHITE\n",
    "                if grid[row][column] == 1:\n",
    "                    color = GREEN\n",
    "                pg.draw.rect(screen,\n",
    "                            color,\n",
    "                            [(MARGIN + WIDTH)* column + MARGIN,\n",
    "                            (MARGIN + HEIGHT)* row + MARGIN,\n",
    "                            WIDTH,\n",
    "                            HEIGHT])\n",
    "        \n",
    "        #start pos\n",
    "        #grid[0][0] = BLUE\n",
    "        \n",
    "        \n",
    "        #-------SELECT ACTION-----------#\n",
    "        #select circuit components, TODO: stop until selection over\n",
    "        d =  None\n",
    "        d1 = None\n",
    "        isH = False\n",
    "        while d1 != \"Y\":\n",
    "            #select qubit\n",
    "            qubit = input(\"which bit?\")\n",
    "            #select gate\n",
    "            gate = input(\"which gate?(X, H, CNOT, ID)\")\n",
    "            \n",
    "            #add gates\n",
    "            circ = mod_circ(circ,gate,int(qubit))\n",
    "            \n",
    "            #check if splits from hadamar\n",
    "            if gate == \"H\":\n",
    "                players *= 2\n",
    "                isH = True\n",
    "                \n",
    "            circ.draw(output='mpl')\n",
    "            \"\"\"\n",
    "            gate key:\n",
    "            -X = X\n",
    "            -H = H\n",
    "            -cNOT = CNOT\n",
    "            -identity = ID\n",
    "            \n",
    "            \"\"\"\n",
    "            #exit\n",
    "            #get results of circuit selection\n",
    "            results = execute(circ,backend).result()\n",
    "            state_vector = results.get_statevector(circ)\n",
    "\n",
    "            #move to new position\n",
    "            #TODO: Account for splits\n",
    "            direction = None\n",
    "            if isH:\n",
    "                #create copy\n",
    "                pos.append(pos[0])\n",
    "                pos.append(pos[1])\n",
    "                \n",
    "            direction = get_dir(np.abs(state_vector)**2)\n",
    "            d1= input(\"Done? (Y/N)\")\n",
    "            #if d1 != 'fin':\n",
    "            #    d = d1\n",
    "            \n",
    "            \n",
    "            \n",
    "        #---------MOVE PLAYER AND MARK-----------#\n",
    "        pos = move_player(pos,direction)\n",
    "        print(pos)\n",
    "        \n",
    "        for i in range(len(pos)//2):\n",
    "            pg.draw.rect(screen,\n",
    "                        GREEN,\n",
    "                        [(MARGIN + WIDTH)* pos[i] + MARGIN,\n",
    "                        (MARGIN + HEIGHT)* pos[i+1] + MARGIN,\n",
    "                        WIDTH,\n",
    "                        HEIGHT])\n",
    "        \n",
    "        #Limit to 60 fps\n",
    "        clock.tick(60)       \n",
    "        # Go ahead and update screen with drawing \n",
    "        pg.display.flip()\n",
    "\n",
    "#close on idle\n",
    "pg.quite()\n",
    "        \n",
    "        \n",
    "\n"
   ]
  },
  {
   "cell_type": "code",
   "execution_count": null,
   "metadata": {},
   "outputs": [],
   "source": [
    "test = [1,0,0,0]"
   ]
  },
  {
   "cell_type": "code",
   "execution_count": null,
   "metadata": {},
   "outputs": [],
   "source": [
    "test"
   ]
  },
  {
   "cell_type": "code",
   "execution_count": null,
   "metadata": {},
   "outputs": [],
   "source": [
    "np.array(test)"
   ]
  },
  {
   "cell_type": "code",
   "execution_count": null,
   "metadata": {},
   "outputs": [],
   "source": [
    "results = execute(circ,backend).result()\n",
    "state_vector = results.get_statevector(circ)"
   ]
  },
  {
   "cell_type": "code",
   "execution_count": null,
   "metadata": {},
   "outputs": [],
   "source": [
    "np.abs(state_vector)**2"
   ]
  },
  {
   "cell_type": "code",
   "execution_count": null,
   "metadata": {},
   "outputs": [],
   "source": []
  }
 ],
 "metadata": {
  "kernelspec": {
   "display_name": "Python 3",
   "language": "python",
   "name": "python3"
  },
  "language_info": {
   "codemirror_mode": {
    "name": "ipython",
    "version": 3
   },
   "file_extension": ".py",
   "mimetype": "text/x-python",
   "name": "python",
   "nbconvert_exporter": "python",
   "pygments_lexer": "ipython3",
   "version": "3.7.4"
  }
 },
 "nbformat": 4,
 "nbformat_minor": 2
}
