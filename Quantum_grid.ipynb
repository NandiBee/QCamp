{
 "cells": [
  {
   "cell_type": "markdown",
   "metadata": {},
   "source": [
    "### Imports"
   ]
  },
  {
   "cell_type": "code",
   "execution_count": 1,
   "metadata": {},
   "outputs": [
    {
     "name": "stdout",
     "output_type": "stream",
     "text": [
      "pygame 1.9.6\n",
      "Hello from the pygame community. https://www.pygame.org/contribute.html\n"
     ]
    }
   ],
   "source": [
    "import numpy as np\n",
    "import pygame as pg"
   ]
  },
  {
   "cell_type": "markdown",
   "metadata": {},
   "source": [
    "### Game Vars "
   ]
  },
  {
   "cell_type": "code",
   "execution_count": 2,
   "metadata": {},
   "outputs": [],
   "source": [
    "#define colours\n",
    "BLACK = (0,0,0)\n",
    "WHITE = (255,255,255)\n",
    "GREEN = (0,255,0)\n",
    "RED = (255,0,0)\n",
    "\n",
    "#Set width and height of the grid location\n",
    "WIDTH = 20\n",
    "HEIGHT = 20\n",
    "\n",
    "#set margins between each cell\n",
    "MARGIN = 5\n",
    "\n",
    "#Create 2-D array as a list of lists\n",
    "grid_size = 2"
   ]
  },
  {
   "cell_type": "markdown",
   "metadata": {},
   "source": [
    "### Make grid "
   ]
  },
  {
   "cell_type": "code",
   "execution_count": 3,
   "metadata": {},
   "outputs": [],
   "source": [
    "grid = []\n",
    "\n",
    "for row in range(grid_size):\n",
    "    #add empty array  that will hold each cell in row\n",
    "    grid.append([])\n",
    "    for column in range(grid_size):\n",
    "        grid[row].append(0) # append a cell\n",
    "    "
   ]
  },
  {
   "cell_type": "markdown",
   "metadata": {},
   "source": [
    "### Inialise pygame "
   ]
  },
  {
   "cell_type": "code",
   "execution_count": null,
   "metadata": {},
   "outputs": [
    {
     "name": "stdout",
     "output_type": "stream",
     "text": [
      "Click (34, 18) Grid_Coords 0 1\n",
      "Click (39, 37) Grid_Coords 1 1\n",
      "Click (18, 39) Grid_Coords 1 0\n",
      "Click (27, 18) Grid_Coords 0 1\n",
      "Click (40, 16) Grid_Coords 0 1\n",
      "Click (39, 37) Grid_Coords 1 1\n",
      "Click (18, 16) Grid_Coords 0 0\n",
      "Click (16, 37) Grid_Coords 1 0\n",
      "Click (35, 36) Grid_Coords 1 1\n",
      "Click (41, 15) Grid_Coords 0 1\n",
      "Click (16, 15) Grid_Coords 0 0\n",
      "Click (20, 48) Grid_Coords 1 0\n",
      "Click (46, 40) Grid_Coords 1 1\n",
      "Click (35, 4) Grid_Coords 0 1\n",
      "Click (37, 26) Grid_Coords 1 1\n",
      "Click (38, 47) Grid_Coords 1 1\n",
      "Click (24, 46) Grid_Coords 1 0\n",
      "Click (31, 23) Grid_Coords 0 1\n",
      "Click (47, 19) Grid_Coords 0 1\n",
      "Click (33, 45) Grid_Coords 1 1\n"
     ]
    }
   ],
   "source": [
    "pg.init()\n",
    "\n",
    "WINDOW_SIZE = [255,255]\n",
    "screen = pg.display.set_mode(WINDOW_SIZE)\n",
    "\n",
    "\n",
    "#set title of screen\n",
    "pg.display.set_caption(\"Qiskit Game\")\n",
    "\n",
    "#loop until user clicks close button\n",
    "done = False\n",
    "\n",
    "#manage speed of screen updates\n",
    "clock = pg.time.Clock()\n",
    "\n",
    "#---------------------MAIN LOOP-----------------------------------#\n",
    "\n",
    "while not done:\n",
    "    for event in pg.event.get(): # user did a thing\n",
    "        if event.type == pg.QUIT: # if the user clicked close\n",
    "            done = True\n",
    "        elif event.type == pg.MOUSEBUTTONDOWN:\n",
    "            #user clicks mouse get the position\n",
    "            pos = pg.mouse.get_pos()\n",
    "            #change x/y screen coordinates to  grid coordinates\n",
    "            column = pos[0]//(WIDTH + MARGIN)\n",
    "            row = pos[1]//(HEIGHT+MARGIN)\n",
    "            #set that location to one\n",
    "            grid[row][column] = 1\n",
    "            print(\"Click\",pos,\"Grid_Coords\",row,column)\n",
    "            \n",
    "        #set screen background\n",
    "        screen.fill(BLACK)\n",
    "        \n",
    "        #Draw the grid\n",
    "        for row in range(grid_size):\n",
    "            for column in range(grid_size):\n",
    "                color = WHITE\n",
    "                if grid[row][column] == 1:\n",
    "                    color = GREEN\n",
    "                pg.draw.rect(screen,\n",
    "                            color,\n",
    "                            [(MARGIN + WIDTH)* column + MARGIN,\n",
    "                            (MARGIN + HEIGHT)* row + MARGIN,\n",
    "                            WIDTH,\n",
    "                            HEIGHT])\n",
    "                \n",
    "        #Limit to 60 fps\n",
    "        clock.tick(60)\n",
    "        \n",
    "        # Go ahead and update screen with drawing\n",
    "        \n",
    "        pg.display.flip()\n",
    "\n",
    "#close on idle\n",
    "pg.quite()\n",
    "        \n",
    "        \n",
    "\n"
   ]
  },
  {
   "cell_type": "code",
   "execution_count": null,
   "metadata": {},
   "outputs": [],
   "source": []
  }
 ],
 "metadata": {
  "kernelspec": {
   "display_name": "Python 3",
   "language": "python",
   "name": "python3"
  },
  "language_info": {
   "codemirror_mode": {
    "name": "ipython",
    "version": 3
   },
   "file_extension": ".py",
   "mimetype": "text/x-python",
   "name": "python",
   "nbconvert_exporter": "python",
   "pygments_lexer": "ipython3",
   "version": "3.7.4"
  }
 },
 "nbformat": 4,
 "nbformat_minor": 2
}
