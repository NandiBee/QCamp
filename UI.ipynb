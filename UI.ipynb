{
 "cells": [
  {
   "cell_type": "code",
   "execution_count": 5,
   "metadata": {},
   "outputs": [],
   "source": [
    "import pygame, thorpy"
   ]
  },
  {
   "cell_type": "code",
   "execution_count": 6,
   "metadata": {},
   "outputs": [
    {
     "name": "stdout",
     "output_type": "stream",
     "text": [
      "Testing that the x gate has been added (1526, 35)\n",
      "Testing that the x gate has been added (1526, 35)\n",
      "Testing that the x gate has been added (1526, 35)\n",
      "Testing that the x gate has been added (1526, 35)\n",
      "Testing that the x gate has been added (1526, 35)\n",
      "Testing that the x gate has been added (1526, 35)\n",
      "Testing that the x gate has been added (1509, 95)\n",
      "Testing that the x gate has been added (1509, 95)\n",
      "Testing that the x gate has been added (1509, 95)\n",
      "Testing that the x gate has been added (1509, 95)\n",
      "Testing that the x gate has been added (1509, 95)\n",
      "Testing that the x gate has been added (1509, 95)\n",
      "Testing that the x gate has been added (1517, 150)\n",
      "Testing that the x gate has been added (1517, 150)\n",
      "Testing that the x gate has been added (1517, 150)\n",
      "Testing that the x gate has been added (1517, 150)\n",
      "Testing that the x gate has been added (1517, 150)\n",
      "Testing that the x gate has been added (1517, 150)\n",
      "Testing that the x gate has been added (1506, 180)\n",
      "Testing that the x gate has been added (1506, 180)\n",
      "Testing that the x gate has been added (1506, 180)\n",
      "Testing that the x gate has been added (1506, 180)\n",
      "Testing that the x gate has been added (1506, 180)\n",
      "Testing that the x gate has been added (1506, 180)\n",
      "Testing that the x gate has been added (63, 766)\n",
      "Testing that the x gate has been added (63, 766)\n",
      "Testing that the x gate has been added (63, 766)\n",
      "Testing that the x gate has been added (63, 766)\n",
      "Testing that the x gate has been added (63, 766)\n",
      "Testing that the x gate has been added (63, 766)\n",
      "Testing that the x gate has been added (78, 824)\n",
      "Testing that the x gate has been added (78, 824)\n",
      "Testing that the x gate has been added (78, 824)\n",
      "Testing that the x gate has been added (78, 824)\n",
      "Testing that the x gate has been added (78, 824)\n",
      "Testing that the x gate has been added (78, 824)\n"
     ]
    },
    {
     "ename": "NameError",
     "evalue": "name 'exit' is not defined",
     "output_type": "error",
     "traceback": [
      "\u001b[1;31m---------------------------------------------------------------------------\u001b[0m",
      "\u001b[1;31mNameError\u001b[0m                                 Traceback (most recent call last)",
      "\u001b[1;32m<ipython-input-6-1596e59f041b>\u001b[0m in \u001b[0;36m<module>\u001b[1;34m\u001b[0m\n\u001b[0;32m     51\u001b[0m \u001b[1;33m\u001b[0m\u001b[0m\n\u001b[0;32m     52\u001b[0m \u001b[0mmenu\u001b[0m \u001b[1;33m=\u001b[0m \u001b[0mthorpy\u001b[0m\u001b[1;33m.\u001b[0m\u001b[0mMenu\u001b[0m\u001b[1;33m(\u001b[0m\u001b[0mbackground\u001b[0m\u001b[1;33m)\u001b[0m\u001b[1;33m\u001b[0m\u001b[1;33m\u001b[0m\u001b[0m\n\u001b[1;32m---> 53\u001b[1;33m \u001b[0mmenu\u001b[0m\u001b[1;33m.\u001b[0m\u001b[0mplay\u001b[0m\u001b[1;33m(\u001b[0m\u001b[1;33m)\u001b[0m\u001b[1;33m\u001b[0m\u001b[1;33m\u001b[0m\u001b[0m\n\u001b[0m\u001b[0;32m     54\u001b[0m \u001b[1;33m\u001b[0m\u001b[0m\n\u001b[0;32m     55\u001b[0m \u001b[0mapp\u001b[0m\u001b[1;33m.\u001b[0m\u001b[0mquit\u001b[0m\u001b[1;33m(\u001b[0m\u001b[1;33m)\u001b[0m\u001b[1;33m\u001b[0m\u001b[1;33m\u001b[0m\u001b[0m\n",
      "\u001b[1;32mc:\\users\\nandi\\anaconda3\\envs\\camp\\lib\\site-packages\\thorpy\\menus\\basicmenu.py\u001b[0m in \u001b[0;36mplay\u001b[1;34m(self, preblit)\u001b[0m\n\u001b[0;32m    158\u001b[0m                 \u001b[0mprint\u001b[0m\u001b[1;33m(\u001b[0m\u001b[0mself\u001b[0m\u001b[1;33m.\u001b[0m\u001b[0mclock\u001b[0m\u001b[1;33m.\u001b[0m\u001b[0mget_fps\u001b[0m\u001b[1;33m(\u001b[0m\u001b[1;33m)\u001b[0m\u001b[1;33m)\u001b[0m\u001b[1;33m\u001b[0m\u001b[1;33m\u001b[0m\u001b[0m\n\u001b[0;32m    159\u001b[0m             \u001b[0mself\u001b[0m\u001b[1;33m.\u001b[0m\u001b[0mclock_tick\u001b[0m\u001b[1;33m(\u001b[0m\u001b[0mself\u001b[0m\u001b[1;33m.\u001b[0m\u001b[0mfps\u001b[0m\u001b[1;33m)\u001b[0m\u001b[1;33m\u001b[0m\u001b[1;33m\u001b[0m\u001b[0m\n\u001b[1;32m--> 160\u001b[1;33m             \u001b[0mself\u001b[0m\u001b[1;33m.\u001b[0m\u001b[0mreact_to_all_events\u001b[0m\u001b[1;33m(\u001b[0m\u001b[1;33m)\u001b[0m\u001b[1;33m\u001b[0m\u001b[1;33m\u001b[0m\u001b[0m\n\u001b[0m\u001b[0;32m    161\u001b[0m \u001b[1;33m\u001b[0m\u001b[0m\n\u001b[0;32m    162\u001b[0m \u001b[1;33m\u001b[0m\u001b[0m\n",
      "\u001b[1;32mc:\\users\\nandi\\anaconda3\\envs\\camp\\lib\\site-packages\\thorpy\\menus\\tickedmenu.py\u001b[0m in \u001b[0;36mreact_to_all_events\u001b[1;34m(self)\u001b[0m\n\u001b[0;32m     20\u001b[0m         \u001b[0mself\u001b[0m\u001b[1;33m.\u001b[0m\u001b[0mpost_time_event\u001b[0m\u001b[1;33m(\u001b[0m\u001b[1;33m)\u001b[0m\u001b[1;33m\u001b[0m\u001b[1;33m\u001b[0m\u001b[0m\n\u001b[0;32m     21\u001b[0m         \u001b[1;32mfor\u001b[0m \u001b[0mevent\u001b[0m \u001b[1;32min\u001b[0m \u001b[0mpygame\u001b[0m\u001b[1;33m.\u001b[0m\u001b[0mevent\u001b[0m\u001b[1;33m.\u001b[0m\u001b[0mget\u001b[0m\u001b[1;33m(\u001b[0m\u001b[1;33m)\u001b[0m\u001b[1;33m:\u001b[0m\u001b[1;33m\u001b[0m\u001b[1;33m\u001b[0m\u001b[0m\n\u001b[1;32m---> 22\u001b[1;33m             \u001b[0mself\u001b[0m\u001b[1;33m.\u001b[0m\u001b[0mtreatement\u001b[0m\u001b[1;33m(\u001b[0m\u001b[0mevent\u001b[0m\u001b[1;33m)\u001b[0m\u001b[1;33m\u001b[0m\u001b[1;33m\u001b[0m\u001b[0m\n\u001b[0m\u001b[0;32m     23\u001b[0m \u001b[1;33m\u001b[0m\u001b[0m\n\u001b[0;32m     24\u001b[0m \u001b[1;32mdef\u001b[0m \u001b[0minteractive_pause\u001b[0m\u001b[1;33m(\u001b[0m\u001b[0mmax_time_in_seconds\u001b[0m\u001b[1;33m,\u001b[0m \u001b[0melement\u001b[0m\u001b[1;33m=\u001b[0m\u001b[1;32mNone\u001b[0m\u001b[1;33m,\u001b[0m \u001b[0mfps\u001b[0m\u001b[1;33m=\u001b[0m\u001b[1;36m45\u001b[0m\u001b[1;33m)\u001b[0m\u001b[1;33m:\u001b[0m\u001b[1;33m\u001b[0m\u001b[1;33m\u001b[0m\u001b[0m\n",
      "\u001b[1;32mc:\\users\\nandi\\anaconda3\\envs\\camp\\lib\\site-packages\\thorpy\\menus\\basicmenu.py\u001b[0m in \u001b[0;36mtreatement\u001b[1;34m(self, event)\u001b[0m\n\u001b[0;32m    132\u001b[0m             \u001b[0mpygame\u001b[0m\u001b[1;33m.\u001b[0m\u001b[0mfont\u001b[0m\u001b[1;33m.\u001b[0m\u001b[0mquit\u001b[0m\u001b[1;33m(\u001b[0m\u001b[1;33m)\u001b[0m\u001b[1;33m\u001b[0m\u001b[1;33m\u001b[0m\u001b[0m\n\u001b[0;32m    133\u001b[0m             \u001b[0mpygame\u001b[0m\u001b[1;33m.\u001b[0m\u001b[0mquit\u001b[0m\u001b[1;33m(\u001b[0m\u001b[1;33m)\u001b[0m\u001b[1;33m\u001b[0m\u001b[1;33m\u001b[0m\u001b[0m\n\u001b[1;32m--> 134\u001b[1;33m             \u001b[0mexit\u001b[0m\u001b[1;33m(\u001b[0m\u001b[1;33m)\u001b[0m\u001b[1;33m\u001b[0m\u001b[1;33m\u001b[0m\u001b[0m\n\u001b[0m\u001b[0;32m    135\u001b[0m         \u001b[1;32melse\u001b[0m\u001b[1;33m:\u001b[0m\u001b[1;33m\u001b[0m\u001b[1;33m\u001b[0m\u001b[0m\n\u001b[0;32m    136\u001b[0m             \u001b[0mself\u001b[0m\u001b[1;33m.\u001b[0m\u001b[0mreact\u001b[0m\u001b[1;33m(\u001b[0m\u001b[0mevent\u001b[0m\u001b[1;33m)\u001b[0m\u001b[1;33m\u001b[0m\u001b[1;33m\u001b[0m\u001b[0m\n",
      "\u001b[1;31mNameError\u001b[0m: name 'exit' is not defined"
     ]
    }
   ],
   "source": [
    "app = thorpy.Application(size=(1600, 900), caption=\"QCamp\")\n",
    "\n",
    "\n",
    "# reactions to events\n",
    "def x_react_test(event):#Reactions functions must take an event as first arg\n",
    "    print(\"Testing that the x gate has been added\", event.pos)\n",
    "\n",
    "\n",
    "\n",
    "text = [\"X gate\", \"H gate\", \"cNot gate\", \"Id gate\", \"qubit 0\", \"qubit 1\"]\n",
    "elements = [thorpy.make_button(text[i]) for i in range(6)]\n",
    "for e in elements:\n",
    "    w, h = e.get_rect().size\n",
    "    w, h = w*(1.5), h*(1.5)\n",
    "    e.set_size((w,h))\n",
    "    e.set_main_color((145,145,225,220))\n",
    "    e.set_font_color((250,250,250,255))\n",
    "    e.set_font_color_hover((50,50,50,255))\n",
    "\n",
    "background = thorpy.Background(color=(5, 5, 5), elements=elements)\n",
    "#background= thorpy.Background(image=\"assets/img/bg1\", elements=elements)\n",
    "\n",
    "\n",
    "# reactions\n",
    "select_q0 = thorpy.Reaction(reacts_to=pygame.MOUSEBUTTONDOWN,\n",
    "                          reac_func=x_react_test)\n",
    "select_q1 = thorpy.Reaction(reacts_to=pygame.MOUSEBUTTONDOWN,\n",
    "                          reac_func=x_react_test)\n",
    "\n",
    "x_react = thorpy.Reaction(reacts_to=pygame.MOUSEBUTTONDOWN,\n",
    "                          reac_func=x_react_test)\n",
    "h_react = thorpy.Reaction(reacts_to=pygame.MOUSEBUTTONDOWN,\n",
    "                          reac_func=x_react_test)\n",
    "cNot_react = thorpy.Reaction(reacts_to=pygame.MOUSEBUTTONDOWN,\n",
    "                          reac_func=x_react_test)\n",
    "Id_react = thorpy.Reaction(reacts_to=pygame.MOUSEBUTTONDOWN,\n",
    "                          reac_func=x_react_test)\n",
    "\n",
    "elements[4].add_reaction(x_react) # select qubit 0\n",
    "elements[5].add_reaction(x_react) # select qubit 1\n",
    "\n",
    "elements[0].add_reaction(x_react) # x react\n",
    "elements[1].add_reaction(x_react) # h react\n",
    "elements[2].add_reaction(x_react) # cnot react\n",
    "elements[3].add_reaction(x_react) # id react\n",
    "\n",
    "\n",
    "thorpy.store(background, elements[0:4], x=1550, y=20, align=\"right\") # gates\n",
    "thorpy.store(background, elements[4:6], x=50, y=750, align=\"left\") # qubits\n",
    "\n",
    "\n",
    "menu = thorpy.Menu(background)\n",
    "menu.play()\n",
    "\n",
    "app.quit()"
   ]
  },
  {
   "cell_type": "code",
   "execution_count": null,
   "metadata": {},
   "outputs": [],
   "source": []
  },
  {
   "cell_type": "code",
   "execution_count": null,
   "metadata": {},
   "outputs": [],
   "source": []
  }
 ],
 "metadata": {
  "kernelspec": {
   "display_name": "Python 3",
   "language": "python",
   "name": "python3"
  },
  "language_info": {
   "codemirror_mode": {
    "name": "ipython",
    "version": 3
   },
   "file_extension": ".py",
   "mimetype": "text/x-python",
   "name": "python",
   "nbconvert_exporter": "python",
   "pygments_lexer": "ipython3",
   "version": "3.7.5"
  }
 },
 "nbformat": 4,
 "nbformat_minor": 2
}
